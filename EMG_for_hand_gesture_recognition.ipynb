{
  "metadata": {
    "kernelspec": {
      "language": "python",
      "display_name": "Python 3",
      "name": "python3"
    },
    "language_info": {
      "pygments_lexer": "ipython3",
      "nbconvert_exporter": "python",
      "version": "3.6.4",
      "file_extension": ".py",
      "codemirror_mode": {
        "name": "ipython",
        "version": 3
      },
      "name": "python",
      "mimetype": "text/x-python"
    },
    "colab": {
      "provenance": [],
      "include_colab_link": true
    }
  },
  "nbformat_minor": 0,
  "nbformat": 4,
  "cells": [
    {
      "cell_type": "markdown",
      "metadata": {
        "id": "view-in-github",
        "colab_type": "text"
      },
      "source": [
        "<a href=\"https://colab.research.google.com/github/khadijaMGHARI/khadijaMGHARI.github.io/blob/main/EMG_for_hand_gesture_recognition.ipynb\" target=\"_parent\"><img src=\"https://colab.research.google.com/assets/colab-badge.svg\" alt=\"Open In Colab\"/></a>"
      ]
    },
    {
      "cell_type": "markdown",
      "source": [
        "#This project proposed using electromyography signals to control an artificial arm that can be used to perform various tasks for amputees.\n",
        "\n",
        "We have developed an efficient way to classify hand gestures based on the MLP algorithm. We conducted experiments with data collected from eight amputees to test the accuracy of a control system that could be used in functional and non-functional tasks. The findings support the development of wearable devices that can provide functional context for these individuals.\n"
      ],
      "metadata": {
        "id": "DWCiEfryqrYy"
      }
    },
    {
      "cell_type": "code",
      "source": [
        "# This Python 3 environment comes with many helpful analytics libraries installed\n",
        "\n",
        "\n",
        "import numpy as np # linear algebra\n",
        "import pandas as pd # data processing, CSV file I/O (e.g. pd.read_csv)\n",
        "\n",
        "# Input data files are available in the read-only \"../input/\" directory\n",
        "# For example, running this (by clicking run or pressing Shift+Enter) will list all files under the input directory\n",
        "#test\n",
        "import os\n",
        "file_list = []\n",
        "for dirname, _, filenames in os.walk('/kaggle/input'):\n",
        "    for filename in filenames:\n",
        "        #print(os.path.join(dirname, filename))\n",
        "        file_list.append(os.path.join(dirname, filename))\n",
        "file_list\n",
        "\n"
      ],
      "metadata": {
        "_uuid": "8f2839f25d086af736a60e9eeb907d3b93b6e0e5",
        "_cell_guid": "b1076dfc-b9ad-4769-8c92-a6c4dae69d19",
        "execution": {
          "iopub.status.busy": "2022-06-10T15:53:41.840412Z",
          "iopub.execute_input": "2022-06-10T15:53:41.841067Z",
          "iopub.status.idle": "2022-06-10T15:53:42.191953Z",
          "shell.execute_reply.started": "2022-06-10T15:53:41.840986Z",
          "shell.execute_reply": "2022-06-10T15:53:42.191272Z"
        },
        "trusted": true,
        "id": "PwIC1_i1pMVe"
      },
      "execution_count": null,
      "outputs": []
    },
    {
      "cell_type": "markdown",
      "source": [
        "****CLASSIFICATION DES FILES PAR CLASSE (32 FILES / CLASSE)****"
      ],
      "metadata": {
        "id": "1RCj_TJKpMVi"
      }
    },
    {
      "cell_type": "code",
      "source": [
        "C1 = [s for s in file_list if \"I-I\" in s]\n",
        "C2 = [s for s in file_list if \"I-M\" in s]\n",
        "C3 = [s for s in file_list if \"I-P\" in s]\n",
        "C4 = [s for s in file_list if \"IMP\" in s]\n",
        "C5 = [s for s in file_list if \"L-L\" in s]\n",
        "C6 = [s for s in file_list if \"M-M\" in s]\n",
        "C7 = [s for s in file_list if \"M-R\" in s]\n",
        "C8 = [s for s in file_list if \"R-L\" in s]\n",
        "C9 = [s for s in file_list if \"R-R\" in s]\n",
        "C10 = [s for s in file_list if \"T-I\" in s]\n",
        "C11 = [s for s in file_list if \"T-L\" in s]\n",
        "C12 = [s for s in file_list if \"T-M\" in s]\n",
        "C13 = [s for s in file_list if \"T-R\" in s]\n",
        "C14 = [s for s in file_list if \"T-T\" in s]\n",
        "X_files = C1+C2+C3+C4+C5+C6+C7+C8+C9+C10+C11+C12+C13+C14\n",
        "Y = []\n",
        "l = 0\n",
        "for i in range(448):\n",
        "\n",
        "    if i%32 == 0:\n",
        "        l += 1\n",
        "        i = 0\n",
        "\n",
        "    Y.append(l)\n",
        "    i += 1\n",
        "\n",
        "print(X_files)\n",
        "print(Y)\n",
        "len(X_files)"
      ],
      "metadata": {
        "execution": {
          "iopub.status.busy": "2022-06-10T15:53:52.351681Z",
          "iopub.execute_input": "2022-06-10T15:53:52.352058Z",
          "iopub.status.idle": "2022-06-10T15:53:52.366641Z",
          "shell.execute_reply.started": "2022-06-10T15:53:52.352035Z",
          "shell.execute_reply": "2022-06-10T15:53:52.366018Z"
        },
        "trusted": true,
        "id": "Mhna4pNvpMVo"
      },
      "execution_count": null,
      "outputs": []
    },
    {
      "cell_type": "markdown",
      "source": [
        "****Livrable 1 :**** Load and visualization data"
      ],
      "metadata": {
        "id": "UiEmYzWfpMVp"
      }
    },
    {
      "cell_type": "code",
      "source": [
        "#Libraries\n",
        "\n",
        "import pandas as pd\n",
        "import numpy as np\n",
        "import matplotlib.pyplot as plt\n",
        "import math\n",
        "import statistics as st\n",
        "from scipy.signal import hilbert\n",
        "import numpy.fft as fft\n",
        "from matplotlib import *\n",
        "from plotly.offline import iplot\n",
        "import os"
      ],
      "metadata": {
        "execution": {
          "iopub.status.busy": "2022-06-10T15:54:01.382306Z",
          "iopub.execute_input": "2022-06-10T15:54:01.382704Z",
          "iopub.status.idle": "2022-06-10T15:54:02.328042Z",
          "shell.execute_reply.started": "2022-06-10T15:54:01.382638Z",
          "shell.execute_reply": "2022-06-10T15:54:02.327069Z"
        },
        "trusted": true,
        "id": "b1unPQ85pMVp"
      },
      "execution_count": null,
      "outputs": []
    },
    {
      "cell_type": "code",
      "source": [
        "\n",
        "liste_finale = []\n",
        "Tf=[]\n",
        "k=0\n",
        "\n",
        "def parse_file(file_path):\n",
        "    file= open(file_path,'r')\n",
        "    liste = []\n",
        "    texte = file.read().strip().split('\\n')\n",
        "    for i in texte:\n",
        "          liste_1 = []\n",
        "          b = i.split(\" \")\n",
        "          for j in b:\n",
        "              if j != '':\n",
        "                 liste_1.append(float(j))\n",
        "          liste.append(liste_1)\n",
        "          #print(\"this is my list:\" ,liste_1)\n",
        "\n",
        "    df = pd.DataFrame(liste, columns =['elec1','elec2','elec3','elec4','elec5','elec6','elec7','elec8'])\n",
        "    return df\n",
        "\n",
        "#function\n",
        "df = parse_file('/kaggle/input/finger/S8-MK/S8-MK/L-L-3.txt')\n",
        "df.plot.line()\n",
        "df\n",
        "#df.iplot()"
      ],
      "metadata": {
        "execution": {
          "iopub.status.busy": "2022-06-10T15:54:03.921295Z",
          "iopub.execute_input": "2022-06-10T15:54:03.921504Z",
          "iopub.status.idle": "2022-06-10T15:54:05.806566Z",
          "shell.execute_reply.started": "2022-06-10T15:54:03.92148Z",
          "shell.execute_reply": "2022-06-10T15:54:05.805816Z"
        },
        "trusted": true,
        "id": "9BsPmh4fpMVq"
      },
      "execution_count": null,
      "outputs": []
    },
    {
      "cell_type": "code",
      "source": [
        "def Visualisation(file):\n",
        "\n",
        "        #function\n",
        "        file= open(file,'r')\n",
        "        liste = []\n",
        "        texte = file.read().strip().split('\\n')\n",
        "        for i in texte:\n",
        "              liste_1 = []\n",
        "              b = i.split(\" \")\n",
        "              for j in b:\n",
        "                  if j != '':\n",
        "                     liste_1.append(float(j))\n",
        "              liste.append(liste_1)\n",
        "              #print(\"this is my list:\" ,liste_1)\n",
        "\n",
        "        df = pd.DataFrame(liste, columns =['elec1','elec2','elec3','elec4','elec5','ele6','elec7','elec8'])\n",
        "        return df\n",
        "Visualisation('/kaggle/input/finger/S8-MK/S8-MK/L-L-3.txt')"
      ],
      "metadata": {
        "execution": {
          "iopub.status.busy": "2022-06-07T18:19:39.174001Z",
          "iopub.execute_input": "2022-06-07T18:19:39.174223Z",
          "iopub.status.idle": "2022-06-07T18:19:39.600476Z",
          "shell.execute_reply.started": "2022-06-07T18:19:39.174196Z",
          "shell.execute_reply": "2022-06-07T18:19:39.599616Z"
        },
        "trusted": true,
        "id": "a_CDPAI1pMVq"
      },
      "execution_count": null,
      "outputs": []
    },
    {
      "cell_type": "code",
      "source": [
        "def visualize_data(paths):\n",
        "    n = len(paths)\n",
        "\n",
        "    fig, axes = plt.subplots(2, 4, figsize=(30, 8), sharex=True, sharey=True)\n",
        "\n",
        "    rows = n // 4\n",
        "\n",
        "    for i in range(2):\n",
        "        for j in range(4):\n",
        "            df = parse_file(paths[j + i*4])\n",
        "            df.plot.line(ax=axes[i,j])\n",
        "\n",
        "fig = visualize_data(['/kaggle/input/finger/S1-MA/S1-MA/T-T-2.txt','/kaggle/input/finger/S1-MA/S1-MA/T-L-3.txt','/kaggle/input/finger/S1-MA/S1-MA/R-R-3.txt','/kaggle/input/finger/S1-MA/S1-MA/T-I-1.txt','/kaggle/input/finger/S1-MA/S1-MA/R-R-1.txt','/kaggle/input/finger/S1-MA/S1-MA/M-R-2.txt','/kaggle/input/finger/S1-MA/S1-MA/T-T-3.txt','/kaggle/input/finger/S8-MK/S8-MK/M-R-1.txt'])\n",
        "fig"
      ],
      "metadata": {
        "execution": {
          "iopub.status.busy": "2022-06-06T21:35:58.882849Z",
          "iopub.execute_input": "2022-06-06T21:35:58.883346Z",
          "iopub.status.idle": "2022-06-06T21:36:15.757382Z",
          "shell.execute_reply.started": "2022-06-06T21:35:58.883297Z",
          "shell.execute_reply": "2022-06-06T21:36:15.756539Z"
        },
        "trusted": true,
        "id": "OlvrsKpXpMVq"
      },
      "execution_count": null,
      "outputs": []
    },
    {
      "cell_type": "markdown",
      "source": [
        " ****Livrable 2 :**** Characteristics extraction from 1D signal"
      ],
      "metadata": {
        "id": "wrmNGmDDpMVr"
      }
    },
    {
      "cell_type": "code",
      "source": [
        "df.describe()"
      ],
      "metadata": {
        "execution": {
          "iopub.status.busy": "2022-06-06T11:50:53.344926Z",
          "iopub.execute_input": "2022-06-06T11:50:53.345428Z",
          "iopub.status.idle": "2022-06-06T11:50:53.392524Z",
          "shell.execute_reply.started": "2022-06-06T11:50:53.345368Z",
          "shell.execute_reply": "2022-06-06T11:50:53.391477Z"
        },
        "trusted": true,
        "id": "sISv5PlOpMVr"
      },
      "execution_count": null,
      "outputs": []
    },
    {
      "cell_type": "markdown",
      "source": [
        "****LISTE DES WAVELETS****"
      ],
      "metadata": {
        "id": "2NDpY0W4pMVs"
      }
    },
    {
      "cell_type": "code",
      "source": [
        "df1 = pd.DataFrame(data = cwtmatr)\n",
        "df1"
      ],
      "metadata": {
        "execution": {
          "iopub.status.busy": "2022-06-10T14:50:51.735581Z",
          "iopub.execute_input": "2022-06-10T14:50:51.736115Z",
          "iopub.status.idle": "2022-06-10T14:50:51.739797Z",
          "shell.execute_reply.started": "2022-06-10T14:50:51.736062Z",
          "shell.execute_reply": "2022-06-10T14:50:51.738894Z"
        },
        "trusted": true,
        "id": "6eIAg7kSpMVs"
      },
      "execution_count": null,
      "outputs": []
    },
    {
      "cell_type": "code",
      "source": [
        "wavelet_outputs = open(\"wavelet_outputs.csv\", \"w\")\n",
        "file=df1.to_csv(wavelet_outputs)"
      ],
      "metadata": {
        "id": "AFrveUY2pMVt"
      },
      "execution_count": null,
      "outputs": []
    },
    {
      "cell_type": "code",
      "source": [
        "df2 = pd.read_csv('wavelet_outputs.csv')\n",
        "df2"
      ],
      "metadata": {
        "id": "FtWq8x9-pMVt"
      },
      "execution_count": null,
      "outputs": []
    },
    {
      "cell_type": "code",
      "source": [
        "import csv\n",
        "\n",
        "with open('wavelet_outputs.csv', 'w', newline='') as f:\n",
        "    writer = csv.writer(f)\n",
        "    writer.writerows(cwtmatr)\n",
        ""
      ],
      "metadata": {
        "id": "EwDzboU2pMVt"
      },
      "execution_count": null,
      "outputs": []
    },
    {
      "cell_type": "code",
      "source": [
        "test=pd.read_csv('wavelet_outputs.csv')\n",
        "test"
      ],
      "metadata": {
        "id": "hX6xS8KFpMVt"
      },
      "execution_count": null,
      "outputs": []
    },
    {
      "cell_type": "code",
      "source": [],
      "metadata": {
        "id": "CsiTfyQqpMVu"
      },
      "execution_count": null,
      "outputs": []
    },
    {
      "cell_type": "markdown",
      "source": [
        "C1"
      ],
      "metadata": {
        "id": "4Oyml8C9pMVu"
      }
    },
    {
      "cell_type": "code",
      "source": [
        "from scipy import signal\n",
        "\n",
        "fichierC1 = open(\"fichierC1.csv\", \"w\")\n",
        "l = [df.loc[:,'elec1'],df.loc[:,'elec2'],df.loc[:,'elec3'],df.loc[:,'elec4'],df.loc[:,'elec5'],df.loc[:,'elec6'],df.loc[:,'elec7'],df.loc[:,'elec8']]\n",
        "\n",
        "for i in C1:\n",
        "    df = parse_file(i)\n",
        "    for k in l :\n",
        "        liste = signal.cwt(k[:4000], signal.ricker, np.arange(1, 150))\n",
        "        df1 = pd.DataFrame(data = liste)\n",
        "fichierC1.write(' '.join(str(e) for e in df1))\n",
        "fichierC1.close()\n"
      ],
      "metadata": {
        "execution": {
          "iopub.status.busy": "2022-06-10T16:13:07.337927Z",
          "iopub.execute_input": "2022-06-10T16:13:07.338204Z",
          "iopub.status.idle": "2022-06-10T16:13:39.87481Z",
          "shell.execute_reply.started": "2022-06-10T16:13:07.338181Z",
          "shell.execute_reply": "2022-06-10T16:13:39.874108Z"
        },
        "trusted": true,
        "id": "SDDYjuqvpMVu"
      },
      "execution_count": null,
      "outputs": []
    },
    {
      "cell_type": "code",
      "source": [
        "df1 = pd.DataFrame(data = liste,)\n",
        "df1"
      ],
      "metadata": {
        "execution": {
          "iopub.status.busy": "2022-06-10T16:16:28.875663Z",
          "iopub.execute_input": "2022-06-10T16:16:28.875898Z",
          "iopub.status.idle": "2022-06-10T16:16:28.900526Z",
          "shell.execute_reply.started": "2022-06-10T16:16:28.875858Z",
          "shell.execute_reply": "2022-06-10T16:16:28.899803Z"
        },
        "trusted": true,
        "id": "bBH_FsrLpMVu"
      },
      "execution_count": null,
      "outputs": []
    },
    {
      "cell_type": "code",
      "source": [
        "import os\n",
        "# get the size of file\n",
        "size = os.path.getsize('fichierC1.csv')\n",
        "print('Size of file is', size, 'bytes')"
      ],
      "metadata": {
        "execution": {
          "iopub.status.busy": "2022-06-10T16:16:38.288683Z",
          "iopub.execute_input": "2022-06-10T16:16:38.288955Z",
          "iopub.status.idle": "2022-06-10T16:16:38.293306Z",
          "shell.execute_reply.started": "2022-06-10T16:16:38.288928Z",
          "shell.execute_reply": "2022-06-10T16:16:38.292821Z"
        },
        "trusted": true,
        "id": "2_juVA0KpMVu"
      },
      "execution_count": null,
      "outputs": []
    },
    {
      "cell_type": "markdown",
      "source": [
        "C2"
      ],
      "metadata": {
        "id": "4ztFVBsfpMVv"
      }
    },
    {
      "cell_type": "code",
      "source": [
        "from scipy import signal\n",
        "fichierC2 = open(\"fichierC2.csv\", \"w\")\n",
        "l = [df.loc[:,'elec1'],df.loc[:,'elec2'],df.loc[:,'elec3'],df.loc[:,'elec4'],df.loc[:,'elec5'],df.loc[:,'elec6'],df.loc[:,'elec7'],df.loc[:,'elec8']]\n",
        "\n",
        "for i in C2:\n",
        "    df = parse_file(i)\n",
        "    for j in l :\n",
        "        k = j\n",
        "        liste = signal.cwt(k[:4000], signal.ricker, np.arange(1, 150))\n",
        "        df2 = pd.DataFrame(data = liste)\n",
        "        fichierC2.write(' '.join(str(e) for e in df2))\n",
        "fichierC2.close()"
      ],
      "metadata": {
        "execution": {
          "iopub.status.busy": "2022-06-10T16:16:42.84154Z",
          "iopub.execute_input": "2022-06-10T16:16:42.842036Z",
          "iopub.status.idle": "2022-06-10T16:17:09.798476Z",
          "shell.execute_reply.started": "2022-06-10T16:16:42.841999Z",
          "shell.execute_reply": "2022-06-10T16:17:09.797933Z"
        },
        "trusted": true,
        "id": "wk8w1Wu6pMVv"
      },
      "execution_count": null,
      "outputs": []
    },
    {
      "cell_type": "code",
      "source": [
        "import os\n",
        "# get the size of file\n",
        "size2 = os.path.getsize('fichierC2.csv')\n",
        "print('Size of file is', size, 'bytes')"
      ],
      "metadata": {
        "execution": {
          "iopub.status.busy": "2022-06-10T16:14:52.282308Z",
          "iopub.execute_input": "2022-06-10T16:14:52.282522Z",
          "iopub.status.idle": "2022-06-10T16:14:52.287382Z",
          "shell.execute_reply.started": "2022-06-10T16:14:52.2825Z",
          "shell.execute_reply": "2022-06-10T16:14:52.286728Z"
        },
        "trusted": true,
        "id": "lCivvR_opMVv"
      },
      "execution_count": null,
      "outputs": []
    },
    {
      "cell_type": "markdown",
      "source": [
        "C3"
      ],
      "metadata": {
        "id": "_dKFc4ylpMVw"
      }
    },
    {
      "cell_type": "code",
      "source": [
        "from scipy import signal\n",
        "fichierC3 = open(\"fichierC3.csv\", \"w\")\n",
        "l = [df.loc[:,'elec1'],df.loc[:,'elec2'],df.loc[:,'elec3'],df.loc[:,'elec4'],df.loc[:,'elec5'],df.loc[:,'elec6'],df.loc[:,'elec7'],df.loc[:,'elec8']]\n",
        "\n",
        "for i in C3:\n",
        "    df = parse_file(i)\n",
        "    for k in l :\n",
        "\n",
        "        liste = signal.cwt(k[:4000], signal.ricker, np.arange(1, 150))\n",
        "        df3 = pd.DataFrame(data = liste)\n",
        "        fichierC3.write(' '.join(str(e) for e in df3))\n",
        "fichierC3.close()\n",
        "\n"
      ],
      "metadata": {
        "execution": {
          "iopub.status.busy": "2022-06-10T16:15:00.143265Z",
          "iopub.execute_input": "2022-06-10T16:15:00.143587Z",
          "iopub.status.idle": "2022-06-10T16:15:31.453439Z",
          "shell.execute_reply.started": "2022-06-10T16:15:00.143564Z",
          "shell.execute_reply": "2022-06-10T16:15:31.452529Z"
        },
        "trusted": true,
        "id": "kwhYFWgspMVw"
      },
      "execution_count": null,
      "outputs": []
    },
    {
      "cell_type": "code",
      "source": [
        "import os\n",
        "# get the size of file\n",
        "size3 = os.path.getsize('fichierC3.csv')\n",
        "print('Size of file is', size, 'bytes')"
      ],
      "metadata": {
        "execution": {
          "iopub.status.busy": "2022-06-10T16:26:21.661155Z",
          "iopub.execute_input": "2022-06-10T16:26:21.661386Z",
          "iopub.status.idle": "2022-06-10T16:26:21.666667Z",
          "shell.execute_reply.started": "2022-06-10T16:26:21.661354Z",
          "shell.execute_reply": "2022-06-10T16:26:21.665941Z"
        },
        "trusted": true,
        "id": "TIVzKnETpMVx"
      },
      "execution_count": null,
      "outputs": []
    },
    {
      "cell_type": "markdown",
      "source": [
        "C4"
      ],
      "metadata": {
        "id": "h2MWNlIBpMVx"
      }
    },
    {
      "cell_type": "code",
      "source": [
        "from scipy import signal\n",
        "fichierC4 = open(\"fichierC4.csv\", \"w\")\n",
        "l = [df.loc[:,'elec1'],df.loc[:,'elec2'],df.loc[:,'elec3'],df.loc[:,'elec4'],df.loc[:,'elec5'],df.loc[:,'elec6'],df.loc[:,'elec7'],df.loc[:,'elec8']]\n",
        "\n",
        "for i in C4:\n",
        "    df = parse_file(i)\n",
        "    for j in l :\n",
        "        k = j\n",
        "        liste = signal.cwt(k[:4000], signal.ricker, np.arange(1, 150))\n",
        "        df4 = pd.DataFrame(data = liste)\n",
        "        fichierC4.write(' '.join(str(e) for e in df4))\n",
        "fichierC4.close()"
      ],
      "metadata": {
        "execution": {
          "iopub.status.busy": "2022-06-10T16:25:51.621981Z",
          "iopub.execute_input": "2022-06-10T16:25:51.62229Z",
          "iopub.status.idle": "2022-06-10T16:26:21.659755Z",
          "shell.execute_reply.started": "2022-06-10T16:25:51.622267Z",
          "shell.execute_reply": "2022-06-10T16:26:21.659133Z"
        },
        "trusted": true,
        "id": "oHz4WTLxpMVy"
      },
      "execution_count": null,
      "outputs": []
    },
    {
      "cell_type": "code",
      "source": [
        "import os\n",
        "# get the size of file\n",
        "size4 = os.path.getsize('fichierC4.csv')\n",
        "print('Size of file is', size, 'bytes')"
      ],
      "metadata": {
        "execution": {
          "iopub.status.busy": "2022-06-10T16:26:32.490981Z",
          "iopub.execute_input": "2022-06-10T16:26:32.491226Z",
          "iopub.status.idle": "2022-06-10T16:26:32.4957Z",
          "shell.execute_reply.started": "2022-06-10T16:26:32.491199Z",
          "shell.execute_reply": "2022-06-10T16:26:32.494829Z"
        },
        "trusted": true,
        "id": "a3OkdJw1pMVy"
      },
      "execution_count": null,
      "outputs": []
    },
    {
      "cell_type": "markdown",
      "source": [
        "C5"
      ],
      "metadata": {
        "id": "1SJROYMvpMVy"
      }
    },
    {
      "cell_type": "code",
      "source": [
        "from scipy import signal\n",
        "fichierC5 = open(\"fichierC5.csv\", \"w\")\n",
        "l = [df.loc[:,'elec1'],df.loc[:,'elec2'],df.loc[:,'elec3'],df.loc[:,'elec4'],df.loc[:,'elec5'],df.loc[:,'elec6'],df.loc[:,'elec7'],df.loc[:,'elec8']]\n",
        "\n",
        "for i in C5:\n",
        "    df = parse_file(i)\n",
        "    for j in l :\n",
        "        k = j\n",
        "        liste = signal.cwt(k[:4000], signal.ricker, np.arange(1, 150))\n",
        "        df5 = pd.DataFrame(data = liste)\n",
        "        fichierC5.write(' '.join(str(e) for e in df5))\n",
        "fichierC5.close()"
      ],
      "metadata": {
        "execution": {
          "iopub.status.busy": "2022-06-10T16:27:08.968759Z",
          "iopub.execute_input": "2022-06-10T16:27:08.969Z",
          "iopub.status.idle": "2022-06-10T16:27:39.467404Z",
          "shell.execute_reply.started": "2022-06-10T16:27:08.968978Z",
          "shell.execute_reply": "2022-06-10T16:27:39.466469Z"
        },
        "trusted": true,
        "id": "og6oE3_9pMVz"
      },
      "execution_count": null,
      "outputs": []
    },
    {
      "cell_type": "code",
      "source": [
        "import os\n",
        "# get the size of file\n",
        "size5 = os.path.getsize('fichierC5.csv')\n",
        "print('Size of file is', size, 'bytes')"
      ],
      "metadata": {
        "execution": {
          "iopub.status.busy": "2022-06-10T16:27:59.831795Z",
          "iopub.execute_input": "2022-06-10T16:27:59.832229Z",
          "iopub.status.idle": "2022-06-10T16:27:59.837423Z",
          "shell.execute_reply.started": "2022-06-10T16:27:59.832196Z",
          "shell.execute_reply": "2022-06-10T16:27:59.836894Z"
        },
        "trusted": true,
        "id": "-s8YkA2JpMV0"
      },
      "execution_count": null,
      "outputs": []
    },
    {
      "cell_type": "markdown",
      "source": [
        "C6"
      ],
      "metadata": {
        "id": "z61gwyn6pMV0"
      }
    },
    {
      "cell_type": "code",
      "source": [
        "from scipy import signal\n",
        "fichierC6 = open(\"fichierC6.csv\", \"w\")\n",
        "l = [df.loc[:,'elec1'],df.loc[:,'elec2'],df.loc[:,'elec3'],df.loc[:,'elec4'],df.loc[:,'elec5'],df.loc[:,'elec6'],df.loc[:,'elec7'],df.loc[:,'elec8']]\n",
        "\n",
        "for i in C6:\n",
        "    df = parse_file(i)\n",
        "    for j in l :\n",
        "        k = j\n",
        "        liste = signal.cwt(k[:4000], signal.ricker, np.arange(1, 150))\n",
        "        df6 = pd.DataFrame(data = liste)\n",
        "        fichierC6.write(' '.join(str(e) for e in df6))\n",
        "fichierC6.close()"
      ],
      "metadata": {
        "execution": {
          "iopub.status.busy": "2022-06-10T16:28:20.206608Z",
          "iopub.execute_input": "2022-06-10T16:28:20.207031Z",
          "iopub.status.idle": "2022-06-10T16:28:52.890244Z",
          "shell.execute_reply.started": "2022-06-10T16:28:20.206998Z",
          "shell.execute_reply": "2022-06-10T16:28:52.889092Z"
        },
        "trusted": true,
        "id": "wemlM5u9pMV0"
      },
      "execution_count": null,
      "outputs": []
    },
    {
      "cell_type": "code",
      "source": [
        "import os\n",
        "# get the size of file\n",
        "size6 = os.path.getsize('fichierC6.csv')\n",
        "print('Size of file is', size, 'bytes')"
      ],
      "metadata": {
        "execution": {
          "iopub.status.busy": "2022-06-10T16:28:52.891597Z",
          "iopub.execute_input": "2022-06-10T16:28:52.891793Z",
          "iopub.status.idle": "2022-06-10T16:28:52.896475Z",
          "shell.execute_reply.started": "2022-06-10T16:28:52.891771Z",
          "shell.execute_reply": "2022-06-10T16:28:52.895807Z"
        },
        "trusted": true,
        "id": "xhiOz7m3pMV1"
      },
      "execution_count": null,
      "outputs": []
    },
    {
      "cell_type": "code",
      "source": [
        "from scipy import signal\n",
        "fichierC7 = open(\"fichierC7.csv\", \"w\")\n",
        "l = [df.loc[:,'elec1'],df.loc[:,'elec2'],df.loc[:,'elec3'],df.loc[:,'elec4'],df.loc[:,'elec5'],df.loc[:,'elec6'],df.loc[:,'elec7'],df.loc[:,'elec8']]\n",
        "\n",
        "for i in C7:\n",
        "    df = parse_file(i)\n",
        "    for j in l :\n",
        "        k = j\n",
        "        liste = signal.cwt(k[:4000], signal.ricker, np.arange(1, 150))\n",
        "        df7 = pd.DataFrame(data = liste)\n",
        "        fichierC7.write(' '.join(str(e) for e in df7))\n",
        "fichierC7.close()"
      ],
      "metadata": {
        "execution": {
          "iopub.status.busy": "2022-06-10T16:28:54.259487Z",
          "iopub.execute_input": "2022-06-10T16:28:54.259732Z",
          "iopub.status.idle": "2022-06-10T16:29:24.248516Z",
          "shell.execute_reply.started": "2022-06-10T16:28:54.2597Z",
          "shell.execute_reply": "2022-06-10T16:29:24.247808Z"
        },
        "trusted": true,
        "id": "juLpQUxapMV1"
      },
      "execution_count": null,
      "outputs": []
    },
    {
      "cell_type": "markdown",
      "source": [
        "C8"
      ],
      "metadata": {
        "id": "6_TtKOJupMV1"
      }
    },
    {
      "cell_type": "code",
      "source": [
        "from scipy import signal\n",
        "fichierC8 = open(\"fichierC8.csv\", \"w\")\n",
        "l = [df.loc[:,'elec1'],df.loc[:,'elec2'],df.loc[:,'elec3'],df.loc[:,'elec4'],df.loc[:,'elec5'],df.loc[:,'elec6'],df.loc[:,'elec7'],df.loc[:,'elec8']]\n",
        "\n",
        "for i in C8:\n",
        "    df = parse_file(i)\n",
        "    for j in l :\n",
        "        k = j\n",
        "        liste = signal.cwt(k[:4000], signal.ricker, np.arange(1, 150))\n",
        "        df8 = pd.DataFrame(data = liste)\n",
        "        fichierC8.write(' '.join(str(e) for e in df8))\n",
        "fichierC8.close()"
      ],
      "metadata": {
        "execution": {
          "iopub.status.busy": "2022-06-10T16:29:47.534973Z",
          "iopub.execute_input": "2022-06-10T16:29:47.535225Z",
          "iopub.status.idle": "2022-06-10T16:30:18.160992Z",
          "shell.execute_reply.started": "2022-06-10T16:29:47.535195Z",
          "shell.execute_reply": "2022-06-10T16:30:18.160192Z"
        },
        "trusted": true,
        "id": "ZN9rS-nwpMV1"
      },
      "execution_count": null,
      "outputs": []
    },
    {
      "cell_type": "markdown",
      "source": [
        "C9"
      ],
      "metadata": {
        "id": "Xi3kSiNTpMWO"
      }
    },
    {
      "cell_type": "code",
      "source": [
        "from scipy import signal\n",
        "fichierC9 = open(\"fichierC9.csv\", \"w\")\n",
        "l = [df.loc[:,'elec1'],df.loc[:,'elec2'],df.loc[:,'elec3'],df.loc[:,'elec4'],df.loc[:,'elec5'],df.loc[:,'elec6'],df.loc[:,'elec7'],df.loc[:,'elec8']]\n",
        "\n",
        "for i in C9:\n",
        "    df = parse_file(i)\n",
        "    for j in l :\n",
        "        k = j\n",
        "        liste = signal.cwt(k[:4000], signal.ricker, np.arange(1, 150))\n",
        "        df9 = pd.DataFrame(data = liste)\n",
        "        fichierC9.write(' '.join(str(e) for e in df9))\n",
        "fichierC9.close()"
      ],
      "metadata": {
        "execution": {
          "iopub.status.busy": "2022-06-10T16:30:37.229986Z",
          "iopub.execute_input": "2022-06-10T16:30:37.230213Z",
          "iopub.status.idle": "2022-06-10T16:31:08.33351Z",
          "shell.execute_reply.started": "2022-06-10T16:30:37.23019Z",
          "shell.execute_reply": "2022-06-10T16:31:08.332916Z"
        },
        "trusted": true,
        "id": "NBZ4ttrbpMWO"
      },
      "execution_count": null,
      "outputs": []
    },
    {
      "cell_type": "markdown",
      "source": [
        "C10"
      ],
      "metadata": {
        "id": "JNCZQJP1pMWO"
      }
    },
    {
      "cell_type": "code",
      "source": [
        "from scipy import signal\n",
        "fichierC10 = open(\"fichierC10.csv\", \"w\")\n",
        "l = [df.loc[:,'elec1'],df.loc[:,'elec2'],df.loc[:,'elec3'],df.loc[:,'elec4'],df.loc[:,'elec5'],df.loc[:,'elec6'],df.loc[:,'elec7'],df.loc[:,'elec8']]\n",
        "\n",
        "for i in C10:\n",
        "    df = parse_file(i)\n",
        "    for j in l :\n",
        "        k = j\n",
        "        liste = signal.cwt(k[:4000], signal.ricker, np.arange(1, 150))\n",
        "        df10 = pd.DataFrame(data = liste)\n",
        "        fichierC10.write(' '.join(str(e) for e in df10))\n",
        "fichierC10.close()"
      ],
      "metadata": {
        "execution": {
          "iopub.status.busy": "2022-06-10T16:31:40.822092Z",
          "iopub.execute_input": "2022-06-10T16:31:40.822381Z",
          "iopub.status.idle": "2022-06-10T16:32:11.826671Z",
          "shell.execute_reply.started": "2022-06-10T16:31:40.822349Z",
          "shell.execute_reply": "2022-06-10T16:32:11.826032Z"
        },
        "trusted": true,
        "id": "kOVQFithpMWP"
      },
      "execution_count": null,
      "outputs": []
    },
    {
      "cell_type": "code",
      "source": [
        "from scipy import signal\n",
        "fichierC11 = open(\"fichierC11.csv\", \"w\")\n",
        "l = [df.loc[:,'elec1'],df.loc[:,'elec2'],df.loc[:,'elec3'],df.loc[:,'elec4'],df.loc[:,'elec5'],df.loc[:,'elec6'],df.loc[:,'elec7'],df.loc[:,'elec8']]\n",
        "\n",
        "for i in C11:\n",
        "    df = parse_file(i)\n",
        "    for j in l :\n",
        "        k = j\n",
        "        liste = signal.cwt(k[:4000], signal.ricker, np.arange(1, 150))\n",
        "        df11 = pd.DataFrame(data = liste)\n",
        "        fichierC11.write(' '.join(str(e) for e in df11))\n",
        "fichierC11.close()"
      ],
      "metadata": {
        "execution": {
          "iopub.status.busy": "2022-06-10T16:32:15.927332Z",
          "iopub.execute_input": "2022-06-10T16:32:15.92754Z",
          "iopub.status.idle": "2022-06-10T16:32:47.003894Z",
          "shell.execute_reply.started": "2022-06-10T16:32:15.927517Z",
          "shell.execute_reply": "2022-06-10T16:32:47.003132Z"
        },
        "trusted": true,
        "id": "XmyuBrvgpMWP"
      },
      "execution_count": null,
      "outputs": []
    },
    {
      "cell_type": "code",
      "source": [
        "from scipy import signal\n",
        "fichierC12 = open(\"fichierC12.csv\", \"w\")\n",
        "l = [df.loc[:,'elec1'],df.loc[:,'elec2'],df.loc[:,'elec3'],df.loc[:,'elec4'],df.loc[:,'elec5'],df.loc[:,'elec6'],df.loc[:,'elec7'],df.loc[:,'elec8']]\n",
        "\n",
        "for i in C12:\n",
        "    df = parse_file(i)\n",
        "    for j in l :\n",
        "        k = j\n",
        "        liste = signal.cwt(k[:4000], signal.ricker, np.arange(1, 150))\n",
        "        df12 = pd.DataFrame(data = liste)\n",
        "        fichierC12.write(' '.join(str(e) for e in df12))\n",
        "fichierC12.close()"
      ],
      "metadata": {
        "execution": {
          "iopub.status.busy": "2022-06-10T16:33:01.327081Z",
          "iopub.execute_input": "2022-06-10T16:33:01.327341Z",
          "iopub.status.idle": "2022-06-10T16:33:32.935189Z",
          "shell.execute_reply.started": "2022-06-10T16:33:01.327316Z",
          "shell.execute_reply": "2022-06-10T16:33:32.934272Z"
        },
        "trusted": true,
        "id": "muLkUrurpMWP"
      },
      "execution_count": null,
      "outputs": []
    },
    {
      "cell_type": "code",
      "source": [
        "from scipy import signal\n",
        "fichierC13 = open(\"fichierC13.csv\", \"w\")\n",
        "l = [df.loc[:,'elec1'],df.loc[:,'elec2'],df.loc[:,'elec3'],df.loc[:,'elec4'],df.loc[:,'elec5'],df.loc[:,'elec6'],df.loc[:,'elec7'],df.loc[:,'elec8']]\n",
        "\n",
        "for i in C13:\n",
        "    df = parse_file(i)\n",
        "    for j in l :\n",
        "        k = j\n",
        "        liste = signal.cwt(k[:4000], signal.ricker, np.arange(1, 150))\n",
        "        df13 = pd.DataFrame(data = liste)\n",
        "        fichierC13.write(' '.join(str(e) for e in df13))\n",
        "fichierC13.close()"
      ],
      "metadata": {
        "execution": {
          "iopub.status.busy": "2022-06-10T16:34:52.739088Z",
          "iopub.execute_input": "2022-06-10T16:34:52.740299Z",
          "iopub.status.idle": "2022-06-10T16:35:25.344387Z",
          "shell.execute_reply.started": "2022-06-10T16:34:52.740255Z",
          "shell.execute_reply": "2022-06-10T16:35:25.343554Z"
        },
        "trusted": true,
        "id": "xD50c3H-pMWP"
      },
      "execution_count": null,
      "outputs": []
    },
    {
      "cell_type": "code",
      "source": [
        "from scipy import signal\n",
        "fichierC14 = open(\"fichierC14.csv\", \"w\")\n",
        "l = [df.loc[:,'elec1'],df.loc[:,'elec2'],df.loc[:,'elec3'],df.loc[:,'elec4'],df.loc[:,'elec5'],df.loc[:,'elec6'],df.loc[:,'elec7'],df.loc[:,'elec8']]\n",
        "\n",
        "for i in C14:\n",
        "    df = parse_file(i)\n",
        "    for j in l :\n",
        "        k = j\n",
        "        liste = signal.cwt(k[:4000], signal.ricker, np.arange(1, 150))\n",
        "        df14 = pd.DataFrame(data = liste)\n",
        "        fichierC14.write(' '.join(str(e) for e in df14))\n",
        "fichierC14.close()"
      ],
      "metadata": {
        "execution": {
          "iopub.status.busy": "2022-06-10T16:35:28.693011Z",
          "iopub.execute_input": "2022-06-10T16:35:28.693757Z",
          "iopub.status.idle": "2022-06-10T16:36:00.028755Z",
          "shell.execute_reply.started": "2022-06-10T16:35:28.693714Z",
          "shell.execute_reply": "2022-06-10T16:36:00.027842Z"
        },
        "trusted": true,
        "id": "Xg8v6zYipMWQ"
      },
      "execution_count": null,
      "outputs": []
    },
    {
      "cell_type": "code",
      "source": [
        "df14"
      ],
      "metadata": {
        "execution": {
          "iopub.status.busy": "2022-06-10T17:33:02.123761Z",
          "iopub.execute_input": "2022-06-10T17:33:02.124007Z",
          "iopub.status.idle": "2022-06-10T17:33:02.158248Z",
          "shell.execute_reply.started": "2022-06-10T17:33:02.123985Z",
          "shell.execute_reply": "2022-06-10T17:33:02.157474Z"
        },
        "trusted": true,
        "id": "QcmIiqTTpMWQ"
      },
      "execution_count": null,
      "outputs": []
    },
    {
      "cell_type": "code",
      "source": [
        "liste.shape"
      ],
      "metadata": {
        "execution": {
          "iopub.status.busy": "2022-06-10T16:37:08.167222Z",
          "iopub.execute_input": "2022-06-10T16:37:08.167462Z",
          "iopub.status.idle": "2022-06-10T16:37:08.173891Z",
          "shell.execute_reply.started": "2022-06-10T16:37:08.167434Z",
          "shell.execute_reply": "2022-06-10T16:37:08.173029Z"
        },
        "trusted": true,
        "id": "POXo86LJpMWQ"
      },
      "execution_count": null,
      "outputs": []
    },
    {
      "cell_type": "code",
      "source": [
        "df1 = pd.DataFrame(data = liste)\n",
        "df1"
      ],
      "metadata": {
        "execution": {
          "iopub.status.busy": "2022-06-07T13:06:53.251343Z",
          "iopub.execute_input": "2022-06-07T13:06:53.251825Z",
          "iopub.status.idle": "2022-06-07T13:06:53.283126Z",
          "shell.execute_reply.started": "2022-06-07T13:06:53.251787Z",
          "shell.execute_reply": "2022-06-07T13:06:53.28253Z"
        },
        "trusted": true,
        "id": "wk-ngQ3fpMWQ"
      },
      "execution_count": null,
      "outputs": []
    },
    {
      "cell_type": "code",
      "source": [
        "import keras\n",
        "from keras.layers import Dense, Flatten\n",
        "from keras.layers import Conv2D, MaxPooling2D\n",
        "from keras.models import Sequential\n",
        "from keras.callbacks import History\n",
        "import pywt"
      ],
      "metadata": {
        "execution": {
          "iopub.status.busy": "2022-06-10T17:26:50.942071Z",
          "iopub.execute_input": "2022-06-10T17:26:50.942735Z",
          "iopub.status.idle": "2022-06-10T17:26:50.94664Z",
          "shell.execute_reply.started": "2022-06-10T17:26:50.94271Z",
          "shell.execute_reply": "2022-06-10T17:26:50.94602Z"
        },
        "trusted": true,
        "id": "gNXW7kmepMWQ"
      },
      "execution_count": null,
      "outputs": []
    },
    {
      "cell_type": "code",
      "source": [
        "data = pd.read_csv(\"fichierC14.csv\")\n",
        "data"
      ],
      "metadata": {
        "execution": {
          "iopub.status.busy": "2022-06-10T17:38:02.655433Z",
          "iopub.execute_input": "2022-06-10T17:38:02.655721Z"
        },
        "trusted": true,
        "id": "44kXP1WwpMWQ"
      },
      "execution_count": null,
      "outputs": []
    },
    {
      "cell_type": "code",
      "source": [
        "filelist = [\"fichierC1.csv\",\"fichierC2.csv\",\"fichierC3.csv\",\"fichierC4.csv\",\"fichierC5.csv\",\"fichierC6.csv\",\"fichierC7.csv\",\"fichierC8.csv\",\"fichierC9.csv\",\"fichierC10.csv\",\"fichierC11.csv\",\"fichierC12.csv\",\"fichierC13.csv\",\"fichierC14.csv\"]\n",
        "df = pd.DataFrame()\n",
        "classe = 0\n",
        "XX = []\n",
        "YY = []\n",
        "for f in filelist :\n",
        "    data = pd.read_csv(f)\n",
        "    XX.append(data)\n",
        "    classe +=1\n",
        "    YY.append(classe)\n",
        "\n",
        "len(XX)"
      ],
      "metadata": {
        "execution": {
          "iopub.status.busy": "2022-06-10T17:26:57.621608Z",
          "iopub.execute_input": "2022-06-10T17:26:57.621977Z",
          "iopub.status.idle": "2022-06-10T17:26:57.886969Z",
          "shell.execute_reply.started": "2022-06-10T17:26:57.621941Z",
          "shell.execute_reply": "2022-06-10T17:26:57.886183Z"
        },
        "trusted": true,
        "id": "0e7lKaDNpMWR"
      },
      "execution_count": null,
      "outputs": []
    },
    {
      "cell_type": "code",
      "source": [
        "XX[1]"
      ],
      "metadata": {
        "execution": {
          "iopub.status.busy": "2022-06-10T17:27:29.319839Z",
          "iopub.execute_input": "2022-06-10T17:27:29.320103Z",
          "iopub.status.idle": "2022-06-10T17:27:29.454458Z",
          "shell.execute_reply.started": "2022-06-10T17:27:29.320079Z",
          "shell.execute_reply": "2022-06-10T17:27:29.453772Z"
        },
        "trusted": true,
        "id": "YimYdnitpMWR"
      },
      "execution_count": null,
      "outputs": []
    },
    {
      "cell_type": "code",
      "source": [
        "import matplotlib.pyplot as plt\n",
        "\n",
        "# We import the data set from tensorflow and build the model there\n",
        "import tensorflow as tf\n",
        "#from tensorflow.keras import datasets, layers, models, MaxPooling2D, Dense, Flattern\n",
        "from sklearn.model_selection import train_test_split\n",
        "from sklearn.metrics import accuracy_score\n",
        "X = liste\n",
        "\n",
        "\n",
        "X_train, X_test,Y_train,Y_test = train_test_split(X,Y, test_size=0.33, random_state=42)\n",
        "Y_train=np.array(Y_train)\n",
        "Y_test=np.array(Y_test)\n",
        "X_train.shape\n",
        "Y_train.shape\n",
        "# Normalize pixel values between 0 and 1\n",
        "#train_images, test_images = train_images / 255.0, test_images / 255.0"
      ],
      "metadata": {
        "execution": {
          "iopub.status.busy": "2022-06-04T11:22:35.348728Z",
          "iopub.status.idle": "2022-06-04T11:22:35.349036Z",
          "shell.execute_reply.started": "2022-06-04T11:22:35.348875Z",
          "shell.execute_reply": "2022-06-04T11:22:35.348897Z"
        },
        "trusted": true,
        "id": "NNiTpPF6pMWS"
      },
      "execution_count": null,
      "outputs": []
    },
    {
      "cell_type": "code",
      "source": [
        "X_train = X_train.reshape(len(X_train),50,20,4)\n",
        "X_test = X_test.reshape(len(X_test),50,20,4)\n",
        "Y_train = Y_train.reshape(len(Y_train),1)\n",
        "Y_test = Y_test.reshape(len(Y_test),1)\n",
        "Y_train.shape"
      ],
      "metadata": {
        "execution": {
          "iopub.status.busy": "2022-06-04T11:22:35.350076Z",
          "iopub.status.idle": "2022-06-04T11:22:35.350395Z",
          "shell.execute_reply.started": "2022-06-04T11:22:35.350235Z",
          "shell.execute_reply": "2022-06-04T11:22:35.350256Z"
        },
        "trusted": true,
        "id": "0qloiO4xpMWS"
      },
      "execution_count": null,
      "outputs": []
    },
    {
      "cell_type": "code",
      "source": [
        "X_train[1,:]"
      ],
      "metadata": {
        "execution": {
          "iopub.status.busy": "2022-06-04T11:22:35.351537Z",
          "iopub.status.idle": "2022-06-04T11:22:35.35212Z",
          "shell.execute_reply.started": "2022-06-04T11:22:35.351923Z",
          "shell.execute_reply": "2022-06-04T11:22:35.351949Z"
        },
        "trusted": true,
        "id": "HW3u0sD6pMWS"
      },
      "execution_count": null,
      "outputs": []
    },
    {
      "cell_type": "code",
      "source": [
        "plt.imshow(X_train[1,:])"
      ],
      "metadata": {
        "execution": {
          "iopub.status.busy": "2022-06-04T11:22:35.353392Z",
          "iopub.status.idle": "2022-06-04T11:22:35.353704Z",
          "shell.execute_reply.started": "2022-06-04T11:22:35.353541Z",
          "shell.execute_reply": "2022-06-04T11:22:35.353563Z"
        },
        "trusted": true,
        "id": "dVzKzPpnpMWT"
      },
      "execution_count": null,
      "outputs": []
    },
    {
      "cell_type": "markdown",
      "source": [
        "**model CNN**"
      ],
      "metadata": {
        "id": "siOXAhjnpMWT"
      }
    },
    {
      "cell_type": "code",
      "source": [
        "import keras\n",
        "from keras.layers import Dense, Flatten\n",
        "from keras.layers import Conv2D, MaxPooling2D\n",
        "from keras.models import Sequential\n",
        "from keras.callbacks import History\n",
        "import pywt\n",
        "# 5 filters,size : 4,4 , dense: connecté (nbr de nrn,..)\n",
        "model = Sequential([\n",
        "    Conv2D(5, (4,4),activation = 'relu',input_shape = (50,20,4)),\n",
        "    MaxPooling2D((2,2)),\n",
        "\n",
        "    Flatten(),\n",
        "    Dense(64,activation = 'relu'),\n",
        "    Dense(1,activation = 'sigmoid')\n",
        "])\n"
      ],
      "metadata": {
        "execution": {
          "iopub.status.busy": "2022-06-04T11:22:35.355562Z",
          "iopub.status.idle": "2022-06-04T11:22:35.35588Z",
          "shell.execute_reply.started": "2022-06-04T11:22:35.355718Z",
          "shell.execute_reply": "2022-06-04T11:22:35.355739Z"
        },
        "trusted": true,
        "id": "v6M0EqO1pMWT"
      },
      "execution_count": null,
      "outputs": []
    },
    {
      "cell_type": "code",
      "source": [
        "model.compile(loss ='binary_crossentropy' , optimizer = 'adam', metrics = ['accuracy'])"
      ],
      "metadata": {
        "execution": {
          "iopub.status.busy": "2022-06-04T11:22:35.356873Z",
          "iopub.status.idle": "2022-06-04T11:22:35.357189Z",
          "shell.execute_reply.started": "2022-06-04T11:22:35.357029Z",
          "shell.execute_reply": "2022-06-04T11:22:35.35705Z"
        },
        "trusted": true,
        "id": "U92NSs1ppMWT"
      },
      "execution_count": null,
      "outputs": []
    },
    {
      "cell_type": "code",
      "source": [
        "model.fit(filec2,2, epochs = 5, batch_size = 64)"
      ],
      "metadata": {
        "execution": {
          "iopub.status.busy": "2022-06-04T11:22:35.358142Z",
          "iopub.status.idle": "2022-06-04T11:22:35.358488Z",
          "shell.execute_reply.started": "2022-06-04T11:22:35.358315Z",
          "shell.execute_reply": "2022-06-04T11:22:35.358338Z"
        },
        "trusted": true,
        "id": "j1YVCnEQpMWT"
      },
      "execution_count": null,
      "outputs": []
    },
    {
      "cell_type": "code",
      "source": [
        "model.evaluate(X_test, Y_test)"
      ],
      "metadata": {
        "execution": {
          "iopub.status.busy": "2022-06-04T11:22:35.359608Z",
          "iopub.status.idle": "2022-06-04T11:22:35.359907Z",
          "shell.execute_reply.started": "2022-06-04T11:22:35.359752Z",
          "shell.execute_reply": "2022-06-04T11:22:35.359773Z"
        },
        "trusted": true,
        "id": "UwkXgrpCpMWU"
      },
      "execution_count": null,
      "outputs": []
    },
    {
      "cell_type": "code",
      "source": [
        "scales = range(1,150)\n",
        "waveletname = 'morl'\n",
        "train_size = 3500\n",
        "test_size= 500\n",
        "df = parse_file('/kaggle/input/finger/S1-MA/S1-MA/I-I-1.txt')\n",
        "train_data_cwt = np.ndarray(shape=(train_size, 149, 149))\n",
        "\n",
        "for ii in range(0,train_size):\n",
        "    if ii % 1000 == 0:\n",
        "        print(ii)\n",
        "    for jj in range(0,9):\n",
        "\n",
        "        coeff, freq = pywt.cwt(df.loc[:,'elec1'], scales, waveletname, 1)\n",
        "        coeff_ = coeff[:149]\n",
        "        train_data_cwt[ii,:, jj] = coeff_\n",
        "\n",
        "test_data_cwt = np.ndarray(shape=(test_size, 149, 149))\n",
        "for ii in range(0,test_size):\n",
        "    if ii % 100 == 0:\n",
        "        print(ii)\n",
        "    for jj in range(0,9):\n",
        "        signal = uci_har_signals_test[ii, :, jj]\n",
        "        coeff, freq = pywt.cwt(df, scales, waveletname, 1)\n",
        "        coeff_ = coeff[:149]\n",
        "        test_data_cwt[ii,:, jj] = coeff_\n",
        "        pywt.wavedec(df.loc[:,'elec1'], scales, waveletname, 1)\n",
        "\n",
        "uci_har_labels_train = list(map(lambda x: int(x) - 1, uci_har_labels_train))\n",
        "uci_har_labels_test = list(map(lambda x: int(x) - 1, uci_har_labels_test))\n",
        "\n",
        "x_train = train_data_cwt\n",
        "y_train = list(uci_har_labels_train[:train_size])\n",
        "x_test = test_data_cwt\n",
        "y_test = list(uci_har_labels_test[:test_size])"
      ],
      "metadata": {
        "execution": {
          "iopub.status.busy": "2022-06-04T11:22:35.361008Z",
          "iopub.status.idle": "2022-06-04T11:22:35.361346Z",
          "shell.execute_reply.started": "2022-06-04T11:22:35.361158Z",
          "shell.execute_reply": "2022-06-04T11:22:35.361179Z"
        },
        "trusted": true,
        "id": "yNzRvY2CpMWU"
      },
      "execution_count": null,
      "outputs": []
    },
    {
      "cell_type": "markdown",
      "source": [
        "****model mlp****"
      ],
      "metadata": {
        "id": "IRVdn56HpMWU"
      }
    },
    {
      "cell_type": "code",
      "source": [
        "from sklearn.neural_network import MLPClassifier\n",
        "from sklearn.model_selection import train_test_split\n",
        "from sklearn.metrics import accuracy_score\n",
        "X = liste\n",
        "y = []\n",
        "for i in range(149):\n",
        "    y.append(i)\n",
        "    i= i + 50\n",
        "\n",
        "#X of size (n_samples, n_features), which holds the training samples represented as floating point feature vector\n",
        "\n",
        "#y of size (n_samples,), which holds the target values (class labels) for the training samples\n",
        "\n",
        "X_train, X_test,y_train,y_test = train_test_split(X,y, test_size=0.33, random_state=42)\n",
        "clf = MLPClassifier(solver='lbfgs',max_iter=100, alpha=1e-5,hidden_layer_sizes=(5, 2), random_state=1)\n",
        "clf.fit(X, y)\n"
      ],
      "metadata": {
        "execution": {
          "iopub.status.busy": "2022-06-04T11:22:35.362853Z",
          "iopub.status.idle": "2022-06-04T11:22:35.36316Z",
          "shell.execute_reply.started": "2022-06-04T11:22:35.362997Z",
          "shell.execute_reply": "2022-06-04T11:22:35.363024Z"
        },
        "trusted": true,
        "id": "kLoiUdzUpMWU"
      },
      "execution_count": null,
      "outputs": []
    },
    {
      "cell_type": "code",
      "source": [
        "#DWT\n",
        "#tableau 1 : 4 essaies de un seul patient pour un seul geste avec les 8 etectrodes.\n",
        "import scaleogram as scg\n",
        "from scipy import signal\n",
        "def visualize_dwt(paths):\n",
        "    n = len(paths)\n",
        "\n",
        "    fig, axes = plt.subplots(8, 4, figsize=(30, 50), sharex=True, sharey=True)\n",
        "\n",
        "    rows = n // 4\n",
        "\n",
        "    for i in range(8):\n",
        "\n",
        "        for j in range(4):\n",
        "            #print(axes[i,j])\n",
        "            df = parse_file(paths[j])\n",
        "            l = [df.loc[:,'elec1'],df.loc[:,'elec2'],df.loc[:,'elec3'],df.loc[:,'elec4'],df.loc[:,'elec5'],df.loc[:,'elec6'],df.loc[:,'elec7'],df.loc[:,'elec8']]\n",
        "            k = l[i]\n",
        "            #ax=scg.cws(k[:4000], scales=np.arange(1, 150),coi = False, ylabel=\"Period\", xlabel=\"Time\",title='scaleogram with linear period',ax=axes[i,j])\n",
        "            #plt.subplot(8,4,j+1)\n",
        "            cwtmatr = signal.cwt(k[:4000], signal.ricker, np.arange(1, 150))\n",
        "\n",
        "\n",
        "fig = visualize_dwt(['/kaggle/input/finger/S1-MA/S1-MA/I-I-1.txt','/kaggle/input/finger/S1-MA/S1-MA/I-I-2.txt','/kaggle/input/finger/S1-MA/S1-MA/I-I-3.txt','/kaggle/input/finger/S1-MA/S1-MA/I-I-4.txt'])\n",
        "fig\n"
      ],
      "metadata": {
        "execution": {
          "iopub.status.busy": "2022-06-04T11:22:35.364671Z",
          "iopub.status.idle": "2022-06-04T11:22:35.364987Z",
          "shell.execute_reply.started": "2022-06-04T11:22:35.364832Z",
          "shell.execute_reply": "2022-06-04T11:22:35.36485Z"
        },
        "trusted": true,
        "id": "QkNXoxCrpMWU"
      },
      "execution_count": null,
      "outputs": []
    },
    {
      "cell_type": "code",
      "source": [
        "#DWT\n",
        "#tableau 2 : un seul patient pour tous les gestes avec les 8 etectrodes.\n",
        "import matplotlib.pyplot as plt\n",
        "def visualize_dwt(paths):\n",
        "    n = len(paths)\n",
        "    liste = []\n",
        "    fig, axes = plt.subplots(14, 8, figsize=(30, 40), sharex=True, sharey=True)\n",
        "\n",
        "    rows = n // 8\n",
        "    for j in range(8):\n",
        "        for i in range(14):\n",
        "\n",
        "\n",
        "            df = parse_file(paths[i])\n",
        "            l = [df.loc[:,'elec1'],df.loc[:,'elec2'],df.loc[:,'elec3'],df.loc[:,'elec4'],df.loc[:,'elec5'],df.loc[:,'elec6'],df.loc[:,'elec7'],df.loc[:,'elec8']]\n",
        "            k = l[j]\n",
        "            ax=scg.cws(k[:4000], scales=np.arange(1, 150),coi = False, ylabel=\"Period\", xlabel=\"Time\",title='scaleogram ',ax=axes[i,j])\n",
        "\n",
        "            liste.append(ax)\n",
        "\n",
        "\n",
        "len(liste)\n",
        "fig = visualize_dwt(['/kaggle/input/finger/S1-MA/S1-MA/I-I-1.txt','/kaggle/input/finger/S1-MA/S1-MA/I-M-1.txt','/kaggle/input/finger/S1-MA/S1-MA/I-P-1.txt','/kaggle/input/finger/S1-MA/S1-MA/IMP-1.txt','/kaggle/input/finger/S1-MA/S1-MA/L-L-1.txt','/kaggle/input/finger/S1-MA/S1-MA/M-M-1.txt','/kaggle/input/finger/S1-MA/S1-MA/M-R-1.txt','/kaggle/input/finger/S1-MA/S1-MA/R-L-1.txt','/kaggle/input/finger/S1-MA/S1-MA/R-R-1.txt','/kaggle/input/finger/S1-MA/S1-MA/T-I-1.txt','/kaggle/input/finger/S1-MA/S1-MA/T-L-1.txt','/kaggle/input/finger/S1-MA/S1-MA/T-M-1.txt','/kaggle/input/finger/S1-MA/S1-MA/T-R-1.txt','/kaggle/input/finger/S1-MA/S1-MA/T-T-1.txt'])\n",
        "fig"
      ],
      "metadata": {
        "execution": {
          "iopub.status.busy": "2022-06-04T11:22:35.365741Z",
          "iopub.status.idle": "2022-06-04T11:22:35.366048Z",
          "shell.execute_reply.started": "2022-06-04T11:22:35.365881Z",
          "shell.execute_reply": "2022-06-04T11:22:35.365902Z"
        },
        "trusted": true,
        "id": "vXBIxCV_pMWV"
      },
      "execution_count": null,
      "outputs": []
    },
    {
      "cell_type": "code",
      "source": [
        "len(liste)"
      ],
      "metadata": {
        "execution": {
          "iopub.status.busy": "2022-06-04T11:22:35.367219Z",
          "iopub.status.idle": "2022-06-04T11:22:35.367809Z",
          "shell.execute_reply.started": "2022-06-04T11:22:35.367626Z",
          "shell.execute_reply": "2022-06-04T11:22:35.367646Z"
        },
        "trusted": true,
        "id": "ilklILuUpMWV"
      },
      "execution_count": null,
      "outputs": []
    },
    {
      "cell_type": "code",
      "source": [
        "import matplotlib.pyplot as plt\n",
        "\n",
        "\n",
        "from sklearn.model_selection import train_test_split\n",
        "# We import the data set from tensorflow and build the model there\n",
        "import tensorflow as tf\n",
        "from tensorflow.keras import datasets, layers, models\n",
        "from keras.layers import Dense\n",
        "\n",
        "\n",
        "y = []\n",
        "X = liste\n",
        "for i in range(1,150):\n",
        "    y.append(i)\n",
        "    i = i+50\n",
        "\n",
        "# Download the data set\n",
        "#(train_images, train_labels), (test_images, test_labels) = liste\n",
        "X_train, X_test,y_train,y_test = train_test_split(liste,y, test_size=0.33, random_state=42)\n",
        "# Normalize pixel values between 0 and 1\n",
        "train_images, test_images = train_images / 255.0, test_images / 255.0"
      ],
      "metadata": {
        "execution": {
          "iopub.status.busy": "2022-06-04T11:22:35.368546Z",
          "iopub.status.idle": "2022-06-04T11:22:35.369118Z",
          "shell.execute_reply.started": "2022-06-04T11:22:35.368934Z",
          "shell.execute_reply": "2022-06-04T11:22:35.368955Z"
        },
        "trusted": true,
        "id": "27a9lWSdpMWV"
      },
      "execution_count": null,
      "outputs": []
    },
    {
      "cell_type": "code",
      "source": [],
      "metadata": {
        "id": "TmDpNU4YpMWV"
      },
      "execution_count": null,
      "outputs": []
    },
    {
      "cell_type": "code",
      "source": [
        "#DWT\n",
        "#tableau 3 : le meme essai 4 personens différentes: M-M-3.txt  pour S1 , S3 , S4 et S8\n",
        "import scaleogram as scg\n",
        "\n",
        "def visualize_dwt(paths):\n",
        "    n = len(paths)\n",
        "\n",
        "    fig, axes = plt.subplots(8, 4, figsize=(30, 40), sharex=True, sharey=True)\n",
        "\n",
        "    rows = n // 4\n",
        "\n",
        "    for i in range(8):\n",
        "\n",
        "        for j in range(4):\n",
        "            #print(axes[i,j])\n",
        "            df = parse_file(paths[j])\n",
        "            l = [df.loc[:,'elec1'],df.loc[:,'elec2'],df.loc[:,'elec3'],df.loc[:,'elec4'],df.loc[:,'elec5'],df.loc[:,'elec6'],df.loc[:,'elec7'],df.loc[:,'elec8']]\n",
        "            k = l[i]\n",
        "            ax=scg.cws(k[:4000], scales=np.arange(1, 150),coi = False, ylabel=\"Period\", xlabel=\"Time\",title='scaleogram with linear period',ax=axes[i,j])\n",
        "\n",
        "\n",
        "\n",
        "fig = visualize_dwt(['/kaggle/input/finger/S1-MA/S1-MA/M-M-3.txt','/kaggle/input/finger/S3-SZ/S3-SZ/M-M-3.txt','/kaggle/input/finger/S4-MN/S4-MN/M-M-3.txt','/kaggle/input/finger/S8-MK/S8-MK/M-M-3.txt'])\n",
        "fig"
      ],
      "metadata": {
        "execution": {
          "iopub.status.busy": "2022-06-04T11:22:35.370121Z",
          "iopub.status.idle": "2022-06-04T11:22:35.370485Z",
          "shell.execute_reply.started": "2022-06-04T11:22:35.370288Z",
          "shell.execute_reply": "2022-06-04T11:22:35.37031Z"
        },
        "trusted": true,
        "id": "9kG1OXxRpMWV"
      },
      "execution_count": null,
      "outputs": []
    },
    {
      "cell_type": "code",
      "source": [],
      "metadata": {
        "id": "W3IaVEu-pMWW"
      },
      "execution_count": null,
      "outputs": []
    },
    {
      "cell_type": "code",
      "source": [
        "df = parse_file('/kaggle/input/finger/S1-MA/S1-MA/I-I-1.txt')\n",
        "k = df.loc[:,'elec1']\n",
        "ax=scg.cws(k[:4000], scales=np.arange(1, 150),coi = False, ylabel=\"Period\", xlabel=\"Time\",title='scaleogram with linear period')\n",
        "pywt.cwt(k[:4000], scales=np.arange(1, 150), sym5)"
      ],
      "metadata": {
        "execution": {
          "iopub.status.busy": "2022-06-04T11:22:35.371346Z",
          "iopub.status.idle": "2022-06-04T11:22:35.371659Z",
          "shell.execute_reply.started": "2022-06-04T11:22:35.371496Z",
          "shell.execute_reply": "2022-06-04T11:22:35.371524Z"
        },
        "trusted": true,
        "id": "-iqBf9J5pMWW"
      },
      "execution_count": null,
      "outputs": []
    },
    {
      "cell_type": "code",
      "source": [
        "#visualisation\n",
        "#\n",
        "\n",
        "def visualize_data(paths):\n",
        "    n = len(paths)\n",
        "\n",
        "    fig, axes = plt.subplots(8, 4, figsize=(20,30), sharex=True, sharey=True)\n",
        "\n",
        "    rows = n // 3\n",
        "    #l = [df.loc[:,'elec1'],df.loc[:,'elec2'],df.loc[:,'elec3'],df.loc[:,'elec4'],df.loc[:,'elec5'],df.loc[:,'elec6'],df.loc[:,'elec7'],df.loc[:,'elec8']]\n",
        "    cc=['b', 'g', 'r', 'c', 'm', 'y', 'k', 'orange']\n",
        "    for i in range(1,9):\n",
        "        for j in range(4):\n",
        "            df = parse_file(paths[j])\n",
        "            #l = [df.loc[:,'elec1'],df.loc[:,'elec2'],df.loc[:,'elec3'],df.loc[:,'elec4'],df.loc[:,'elec5'],df.loc[:,'elec6'],df.loc[:,'elec7'],df.loc[:,'elec8']]\n",
        "            #ax=scg.cws(k[:4000], scales=np.arange(1, 150),coi = False, ylabel=\"Period\", xlabel=\"Time\",title='scaleogram with linear period',ax=axes[i,j])\n",
        "            plt.subplot(8,4,j+1)\n",
        "            df['elec'+str(i)].plot.line(ax=axes[i-1,j],color=cc[i-1])\n",
        "\n",
        "\n",
        "fig = visualize_data(['/kaggle/input/finger/S1-MA/S1-MA/I-I-1.txt','/kaggle/input/finger/S1-MA/S1-MA/I-I-2.txt','/kaggle/input/finger/S1-MA/S1-MA/I-I-3.txt','/kaggle/input/finger/S1-MA/S1-MA/I-I-4.txt'])\n",
        "fig"
      ],
      "metadata": {
        "execution": {
          "iopub.status.busy": "2022-06-04T11:22:35.372843Z",
          "iopub.status.idle": "2022-06-04T11:22:35.37312Z",
          "shell.execute_reply.started": "2022-06-04T11:22:35.372974Z",
          "shell.execute_reply": "2022-06-04T11:22:35.372988Z"
        },
        "trusted": true,
        "id": "D7GWE7CLpMWW"
      },
      "execution_count": null,
      "outputs": []
    },
    {
      "cell_type": "markdown",
      "source": [
        "**Multi-layer Perceptron**"
      ],
      "metadata": {
        "id": "TS7Z2A13pMWW"
      }
    },
    {
      "cell_type": "code",
      "source": [
        "from sklearn.neural_network import MLPClassifier\n",
        "from sklearn.model_selection import train_test_split\n",
        "from sklearn.metrics import accuracy_score\n",
        "X = list\n",
        "#X of size (n_samples, n_features), which holds the training samples represented as floating point feature vector\n",
        "#y of size (n_samples,), which holds the target values (class labels) for the training samples\n",
        "X_train, X_test,y_train,y_test = train_test_split(X,y, test_size=0.33, random_state=42)\n",
        "clf = MLPClassifier(solver='lbfgs', alpha=1e-5,hidden_layer_sizes=(5, 2), random_state=1)\n",
        "clf.fit(X, y)\n"
      ],
      "metadata": {
        "execution": {
          "iopub.status.busy": "2022-06-04T11:22:35.374138Z",
          "iopub.status.idle": "2022-06-04T11:22:35.374489Z",
          "shell.execute_reply.started": "2022-06-04T11:22:35.374317Z",
          "shell.execute_reply": "2022-06-04T11:22:35.37434Z"
        },
        "trusted": true,
        "id": "cXzL049QpMWW"
      },
      "execution_count": null,
      "outputs": []
    },
    {
      "cell_type": "code",
      "source": [
        "df = parse_file('/kaggle/input/finger/S1-MA/S1-MA/I-I-1.txt')\n",
        "k = df.loc[:,'elec1']\n",
        "ax=scg.cws(k[:4000], scales=np.arange(1, 150),coi = False, ylabel=\"Period\", xlabel=\"Time\",title='scaleogram with linear period',ax=axes[i,j])\n",
        ""
      ],
      "metadata": {
        "execution": {
          "iopub.status.busy": "2022-06-04T11:22:35.376054Z",
          "iopub.status.idle": "2022-06-04T11:22:35.37639Z",
          "shell.execute_reply.started": "2022-06-04T11:22:35.376229Z",
          "shell.execute_reply": "2022-06-04T11:22:35.37625Z"
        },
        "trusted": true,
        "id": "mPIUGdcPpMWX"
      },
      "execution_count": null,
      "outputs": []
    },
    {
      "cell_type": "code",
      "source": [],
      "metadata": {
        "id": "wOBbDoxUpMWX"
      },
      "execution_count": null,
      "outputs": []
    },
    {
      "cell_type": "code",
      "source": [],
      "metadata": {
        "id": "jOZmpKUApMWX"
      },
      "execution_count": null,
      "outputs": []
    },
    {
      "cell_type": "code",
      "source": [
        "from scipy import signal\n",
        "import matplotlib.pyplot as plt\n",
        "t = np.linspace(-1, 1, 200, endpoint=False)\n",
        "l = [df.loc[:,'elec1'],df.loc[:,'elec2'],df.loc[:,'elec3'],df.loc[:,'elec4'],df.loc[:,'elec5'],df.loc[:,'elec6'],df.loc[:,'elec7'],df.loc[:,'elec8']]\n",
        "\n",
        "#sig  = k[:4000]\n",
        "widths = np.arange(1, 50)\n",
        "cwtmatr = signal.cwt(sig, signal.ricker, widths)\n",
        "cwtmatr"
      ],
      "metadata": {
        "execution": {
          "iopub.status.busy": "2022-06-07T12:39:21.809963Z",
          "iopub.execute_input": "2022-06-07T12:39:21.810231Z",
          "iopub.status.idle": "2022-06-07T12:39:21.828058Z",
          "shell.execute_reply.started": "2022-06-07T12:39:21.810204Z",
          "shell.execute_reply": "2022-06-07T12:39:21.827254Z"
        },
        "trusted": true,
        "id": "PTlS3QiUpMWX"
      },
      "execution_count": null,
      "outputs": []
    },
    {
      "cell_type": "code",
      "source": [
        "from scipy import signal\n",
        "l = [df.loc[:,'elec1'],df.loc[:,'elec2'],df.loc[:,'elec3'],df.loc[:,'elec4'],df.loc[:,'elec5'],df.loc[:,'elec6'],df.loc[:,'elec7'],df.loc[:,'elec8']]\n",
        "\n",
        "for i in X_files:\n",
        "    df = parse_file(i)\n",
        "    for j in l :\n",
        "        k = l[j]\n",
        "        liste = signal.cwt(k[:4000], signal.ricker, np.arange(1, 150))\n",
        "        X.append(liste)\n",
        ""
      ],
      "metadata": {
        "execution": {
          "iopub.status.busy": "2022-06-04T11:22:35.341779Z",
          "iopub.status.idle": "2022-06-04T11:22:35.342065Z",
          "shell.execute_reply.started": "2022-06-04T11:22:35.341913Z",
          "shell.execute_reply": "2022-06-04T11:22:35.341927Z"
        },
        "trusted": true,
        "id": "TCCdhFZCpMWX"
      },
      "execution_count": null,
      "outputs": []
    },
    {
      "cell_type": "code",
      "source": [],
      "metadata": {
        "id": "3Q9sm3oWpMWX"
      },
      "execution_count": null,
      "outputs": []
    }
  ]
}